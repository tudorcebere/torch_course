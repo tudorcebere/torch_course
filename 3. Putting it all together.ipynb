{
 "cells": [
  {
   "cell_type": "code",
   "execution_count": 3,
   "metadata": {},
   "outputs": [
    {
     "name": "stdout",
     "output_type": "stream",
     "text": [
      "--2020-11-17 17:16:14--  https://gist.githubusercontent.com/curran/a08a1080b88344b0c8a7/raw/0e7a9b0a5d22642a06d3d5b9bcbad9890c8ee534/iris.csv\n",
      "Resolving www.crc (www.crc)... 77.158.181.87\n",
      "Connecting to www.crc (www.crc)|77.158.181.87|:3128... connected.\n",
      "Proxy request sent, awaiting response... 200 OK\n",
      "Length: 3858 (3,8K) [text/plain]\n",
      "Saving to: ‘iris.csv’\n",
      "\n",
      "iris.csv            100%[===================>]   3,77K  --.-KB/s    in 0s      \n",
      "\n",
      "2020-11-17 17:16:15 (34,0 MB/s) - ‘iris.csv’ saved [3858/3858]\n",
      "\n"
     ]
    }
   ],
   "source": [
    "!wget https://gist.githubusercontent.com/curran/a08a1080b88344b0c8a7/raw/0e7a9b0a5d22642a06d3d5b9bcbad9890c8ee534/iris.csv"
   ]
  },
  {
   "cell_type": "code",
   "execution_count": 6,
   "metadata": {},
   "outputs": [
    {
     "ename": "ModuleNotFoundError",
     "evalue": "No module named 'torch.data'",
     "output_type": "error",
     "traceback": [
      "\u001b[0;31m---------------------------------------------------------------------------\u001b[0m",
      "\u001b[0;31mModuleNotFoundError\u001b[0m                       Traceback (most recent call last)",
      "\u001b[0;32m<ipython-input-6-068117039798>\u001b[0m in \u001b[0;36m<module>\u001b[0;34m\u001b[0m\n\u001b[0;32m----> 1\u001b[0;31m \u001b[0;32mfrom\u001b[0m \u001b[0mtorch\u001b[0m\u001b[0;34m.\u001b[0m\u001b[0mdata\u001b[0m\u001b[0;34m.\u001b[0m\u001b[0mutil\u001b[0m \u001b[0;32mimport\u001b[0m \u001b[0mDataset\u001b[0m\u001b[0;34m,\u001b[0m \u001b[0mDataLoader\u001b[0m\u001b[0;34m\u001b[0m\u001b[0;34m\u001b[0m\u001b[0m\n\u001b[0m",
      "\u001b[0;31mModuleNotFoundError\u001b[0m: No module named 'torch.data'"
     ]
    }
   ],
   "source": [
    "import csv\n",
    "from torch.utils.data import Dataset, DataLoader\n",
    "\n",
    "class IrisDataset(Dataset):\n",
    "    def __init__(self, path_to_csv: str, train: bool = True):\n",
    "        rows = [] \n",
    "  \n",
    "        # reading csv file \n",
    "        with open(path_to_csv, 'r') as csvfile: \n",
    "            # creating a csv reader object \n",
    "            csvreader = csv.reader(csvfile) \n",
    "\n",
    "            # extracting field names through first row \n",
    "            fields = next(csvreader) \n",
    "\n",
    "            # extracting each data row one by one \n",
    "            for row in csvreader: \n",
    "                rows.append(row)\n",
    "        \n",
    "        \n",
    "        \n",
    "    def __len__(self):\n",
    "        pass\n",
    "    \n",
    "    def __getitem__(self):\n",
    "        pass\n",
    "\n",
    "data_train = IrisDataset(\"./iris.csv\", train=True)"
   ]
  },
  {
   "cell_type": "code",
   "execution_count": null,
   "metadata": {},
   "outputs": [],
   "source": []
  }
 ],
 "metadata": {
  "kernelspec": {
   "display_name": "Python 3",
   "language": "python",
   "name": "python3"
  },
  "language_info": {
   "codemirror_mode": {
    "name": "ipython",
    "version": 3
   },
   "file_extension": ".py",
   "mimetype": "text/x-python",
   "name": "python",
   "nbconvert_exporter": "python",
   "pygments_lexer": "ipython3",
   "version": "3.7.6"
  }
 },
 "nbformat": 4,
 "nbformat_minor": 4
}
