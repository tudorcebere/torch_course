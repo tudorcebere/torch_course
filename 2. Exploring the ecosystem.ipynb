{
 "cells": [
  {
   "cell_type": "markdown",
   "metadata": {},
   "source": [
    "## Dataset"
   ]
  },
  {
   "cell_type": "code",
   "execution_count": null,
   "metadata": {},
   "outputs": [],
   "source": [
    "! pip -q install pytorch-lightning\n",
    "! pip -q install torchviz\n",
    "! pip -q install graphviz"
   ]
  },
  {
   "cell_type": "code",
   "execution_count": null,
   "metadata": {},
   "outputs": [],
   "source": [
    "%load_ext tensorboard"
   ]
  },
  {
   "cell_type": "code",
   "execution_count": null,
   "metadata": {},
   "outputs": [],
   "source": [
    "import torch as th\n",
    "from torch.utils.data import Dataset, DataLoader\n",
    "\n",
    "class UnknownFunctionDataset(Dataset):\n",
    "    def __init__(self, data: list, labels: list):\n",
    "        self.data = [th.tensor(sample).float() for sample in data]\n",
    "        self.labels = [th.tensor(label).float() for label in labels]\n",
    "        \n",
    "    def __len__(self):\n",
    "        return len(self.data)\n",
    "\n",
    "    def __getitem__(self, idx):\n",
    "        return self.data[idx], self.labels[idx]"
   ]
  },
  {
   "cell_type": "code",
   "execution_count": null,
   "metadata": {},
   "outputs": [],
   "source": [
    "train_data = [[0, 0, 0], [0, 0, 1], [0, 1, 0], [1, 0, 0], [1, 0, 1], [1, 1, 0]]\n",
    "train_labels = [0, 0, 0, 0, 1, 1, 1, 1]\n",
    "\n",
    "test_data = [[0, 1, 1], [1, 1, 1]]\n",
    "test_labels = [0, 1]\n",
    "\n",
    "train_dataset = UnknownFunctionDataset(train_data, train_labels)\n",
    "test_dataset = UnknownFunctionDataset(test_data, test_labels)"
   ]
  },
  {
   "cell_type": "code",
   "execution_count": null,
   "metadata": {},
   "outputs": [],
   "source": [
    "for i in range(len(train_dataset)):\n",
    "    sample = train_dataset[i]\n",
    "\n",
    "    print(sample)\n",
    "    \n",
    "    if i == 2:\n",
    "        break"
   ]
  },
  {
   "cell_type": "code",
   "execution_count": null,
   "metadata": {},
   "outputs": [],
   "source": [
    "# we are not batching\n",
    "# we are not shuffling\n",
    "# we are not doing multiprocessor work at all"
   ]
  },
  {
   "cell_type": "code",
   "execution_count": null,
   "metadata": {},
   "outputs": [],
   "source": [
    "train_dataloader = DataLoader(train_dataset, batch_size=1, shuffle=True, num_workers=1)\n",
    "test_dataloader = DataLoader(test_dataset, batch_size=1, shuffle=True, num_workers=1)"
   ]
  },
  {
   "cell_type": "markdown",
   "metadata": {},
   "source": [
    "## Writing Modules"
   ]
  },
  {
   "cell_type": "code",
   "execution_count": null,
   "metadata": {},
   "outputs": [],
   "source": [
    "class UnknownFunctionModel(th.nn.Module):\n",
    "    def __init__(self, input_dim=3, output_dim=1):\n",
    "        super(UnknownFunctionModel, self).__init__()\n",
    "        self.lin1 = th.nn.Linear(input_dim, 10)\n",
    "        self.sigmoid = th.nn.Sigmoid()\n",
    "        self.lin2 = th.nn.Linear(10, output_dim)\n",
    "    \n",
    "    def forward(self, x):\n",
    "        x = self.lin1(x)\n",
    "        x = self.sigmoid(x)\n",
    "        x = self.lin2(x)\n",
    "        return self.sigmoid(x)\n",
    "\n",
    "device = \"cuda\" if th.cuda.is_available() else \"cpu\"\n",
    "model = UnknownFunctionModel().to(device)    \n",
    "optimizer = th.optim.SGD(model.parameters(), lr=0.02, momentum=0.9)\n",
    "loss_func = th.nn.MSELoss()\n",
    "epochs = 100\n",
    "\n",
    "#train loop\n",
    "for epoch in range(epochs):\n",
    "    for batch_idx, batch in enumerate(train_dataloader):\n",
    "        optimizer.zero_grad()\n",
    "        data, label = batch\n",
    "        \n",
    "        data = data.to(device)\n",
    "        label = label.to(device)\n",
    "        \n",
    "        output = model(data)\n",
    "        loss = loss_func(output, label)\n",
    "        loss.backward()\n",
    "        optimizer.step()\n",
    "    \n",
    "    \n",
    "    if epoch % 10 == 0:\n",
    "        print(f\"Epoch {epoch} results:\")\n",
    "        for batch_idx, batch in enumerate(test_dataloader):\n",
    "                data, label = batch\n",
    "                data = data.to(device)\n",
    "                label = label.to(device)\n",
    "                output = model(data).item()\n",
    "                print(f\"Result: {round(output)}, Target: {label}\")\n",
    "        "
   ]
  },
  {
   "cell_type": "code",
   "execution_count": null,
   "metadata": {},
   "outputs": [],
   "source": [
    "from torchviz import make_dot\n",
    "\n",
    "make_dot(loss, params=dict(model.named_parameters()))"
   ]
  },
  {
   "cell_type": "markdown",
   "metadata": {},
   "source": [
    "## Tensorboard"
   ]
  },
  {
   "cell_type": "code",
   "execution_count": null,
   "metadata": {},
   "outputs": [],
   "source": [
    "# this can be run only on a local jupyter notebook, as it's opening it's own port.\n",
    "\n",
    "# imports\n",
    "import matplotlib.pyplot as plt\n",
    "import numpy as np\n",
    "\n",
    "import torch\n",
    "import torchvision\n",
    "import torchvision.transforms as transforms\n",
    "\n",
    "import torch.nn as nn\n",
    "import torch.nn.functional as F\n",
    "import torch.optim as optim\n",
    "from torch.utils.tensorboard import SummaryWriter"
   ]
  },
  {
   "cell_type": "code",
   "execution_count": null,
   "metadata": {},
   "outputs": [],
   "source": [
    "writer = SummaryWriter()\n",
    "\n",
    "class UnknownFunctionModel(th.nn.Module):\n",
    "    def __init__(self, input_dim=3, output_dim=1):\n",
    "        super(UnknownFunctionModel, self).__init__()\n",
    "        self.lin1 = th.nn.Linear(input_dim, 10)\n",
    "        self.sigmoid = th.nn.Sigmoid()\n",
    "        self.lin2 = th.nn.Linear(10, output_dim)\n",
    "    \n",
    "    def forward(self, x):\n",
    "        x = self.lin1(x)\n",
    "        x = self.sigmoid(x)\n",
    "        x = self.lin2(x)\n",
    "        return self.sigmoid(x)\n",
    "\n",
    "model = UnknownFunctionModel()\n",
    "optimizer = th.optim.SGD(model.parameters(), lr=0.02, momentum=0.9)\n",
    "loss_func = th.nn.MSELoss()\n",
    "epochs = 100\n",
    "\n",
    "#train loop\n",
    "for epoch in range(epochs):\n",
    "    batch_loss = 0\n",
    "    for batch_idx, batch in enumerate(train_dataloader):\n",
    "        optimizer.zero_grad()\n",
    "        data, label = batch\n",
    "        output = model(data)\n",
    "        loss = loss_func(output, label)\n",
    "        loss.backward()\n",
    "        optimizer.step()\n",
    "        batch_loss += loss.item()\n",
    "    \n",
    "    if epoch % 5 == 0:\n",
    "        writer.add_scalar(\"train_loss\", batch_loss, epoch)\n",
    "        \n",
    "        test_loss = 0\n",
    "        for batch_idx, batch in enumerate(test_dataloader):\n",
    "            data, label = batch\n",
    "            output = model(data)\n",
    "            loss = loss_func(output, label)\n",
    "            test_loss += loss\n",
    "        writer.add_scalar(\"test_loss\", test_loss, epoch)\n",
    "\n",
    "writer.flush()\n",
    "writer.close()"
   ]
  },
  {
   "cell_type": "code",
   "execution_count": null,
   "metadata": {},
   "outputs": [],
   "source": [
    "%tensorboard --logdir runs"
   ]
  },
  {
   "cell_type": "markdown",
   "metadata": {},
   "source": [
    "## TorchLightning"
   ]
  },
  {
   "cell_type": "code",
   "execution_count": null,
   "metadata": {},
   "outputs": [],
   "source": [
    "from pytorch_lightning import LightningModule, Trainer\n",
    "\n",
    "class CleanModel(LightningModule):\n",
    "    def __init__(self, input_dim=3, output_dim=1):\n",
    "        super(CleanModel, self).__init__()\n",
    "        self.lin1 = th.nn.Linear(input_dim, 50)\n",
    "        self.sigmoid = th.nn.Sigmoid()\n",
    "        self.lin2 = th.nn.Linear(50, output_dim)\n",
    "        \n",
    "        self.lr = 0.02\n",
    "        self.momentum = 0.9\n",
    "        self.loss_function = th.nn.MSELoss()\n",
    "\n",
    "    def forward(self, x):\n",
    "        x = self.lin1(x)\n",
    "        x = self.sigmoid(x)\n",
    "        x = self.lin2(x)\n",
    "        return self.sigmoid(x)\n",
    "\n",
    "    def configure_optimizers(self):\n",
    "        return optim.SGD(self.parameters(), lr=self.lr, momentum=self.momentum)\n",
    "\n",
    "    def train_dataloader(self):\n",
    "        loader = DataLoader(UnknownFunctionDataset(train_data, train_labels), batch_size=1, shuffle=True)\n",
    "        return loader\n",
    "\n",
    "    def val_dataloader(self):\n",
    "        loader = DataLoader(UnknownFunctionDataset(test_data, test_labels), batch_size=1, shuffle=False)\n",
    "        return loader\n",
    "\n",
    "    def training_step(self, batch, batch_nb):\n",
    "        x, y = batch\n",
    "        loss = self.loss_function(self(x), y)\n",
    "        return {'loss': loss}\n",
    "\n",
    "    def validation_step(self, batch, batch_nb):\n",
    "        x, y = batch\n",
    "        x = x\n",
    "        y = y\n",
    "        loss = self.loss_function(self(x), y)\n",
    "        return {'val_loss': loss}\n",
    "    \n",
    "    def training_epoch_end(self, outputs):\n",
    "        train_loss_mean = sum([o[\"loss\"] for o in outputs]) / len(outputs)\n",
    "        self.log(\"train_loss_mean\", train_loss_mean)\n",
    "        \n",
    "    def validation_epoch_end(self, outputs):\n",
    "        val_loss_mean = sum([o['val_loss'] for o in outputs]) / len(outputs)\n",
    "        self.log(\"val_loss_mean\", val_loss_mean)\n"
   ]
  },
  {
   "cell_type": "code",
   "execution_count": null,
   "metadata": {},
   "outputs": [],
   "source": [
    "model = CleanModel()\n",
    "\n",
    "trainer = Trainer(\n",
    "    max_epochs=100,\n",
    "    min_epochs=1,\n",
    "    auto_lr_find=False,\n",
    "    auto_scale_batch_size=False,\n",
    "    progress_bar_refresh_rate=0)\n",
    "\n",
    "trainer.fit(model)"
   ]
  },
  {
   "cell_type": "code",
   "execution_count": null,
   "metadata": {},
   "outputs": [],
   "source": [
    "%tensorboard --logdir lightning_logs"
   ]
  }
 ],
 "metadata": {
  "kernelspec": {
   "display_name": "Python 3",
   "language": "python",
   "name": "python3"
  },
  "language_info": {
   "codemirror_mode": {
    "name": "ipython",
    "version": 3
   },
   "file_extension": ".py",
   "mimetype": "text/x-python",
   "name": "python",
   "nbconvert_exporter": "python",
   "pygments_lexer": "ipython3",
   "version": "3.8.5"
  }
 },
 "nbformat": 4,
 "nbformat_minor": 4
}
