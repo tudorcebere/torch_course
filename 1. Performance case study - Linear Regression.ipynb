{
 "cells": [
  {
   "cell_type": "markdown",
   "metadata": {},
   "source": [
    "## Part 1: Linear Regression\n",
    "\n",
    "![](https://mlfromscratch.com/content/images/2020/01/linearRegression2-3.png)"
   ]
  },
  {
   "cell_type": "code",
   "execution_count": null,
   "metadata": {},
   "outputs": [],
   "source": [
    "import torch as th\n",
    "from torch import nn\n",
    "from sklearn.datasets import make_regression\n",
    "import matplotlib.pyplot as plt\n",
    "import numpy as np\n",
    "from time import time"
   ]
  },
  {
   "cell_type": "code",
   "execution_count": null,
   "metadata": {},
   "outputs": [],
   "source": [
    "# limiting the randomness for reproductibility\n",
    "np.random.seed(42)\n",
    "th.manual_seed(42)\n",
    "\n",
    "# the number of samples to benchmark our linear regressions\n",
    "no_inputs = [10**i for i in range(3, 9)]"
   ]
  },
  {
   "cell_type": "code",
   "execution_count": null,
   "metadata": {},
   "outputs": [],
   "source": [
    "class NumpyLinearRegression:\n",
    "    def __init__(self):\n",
    "        self.weights = None\n",
    "        \n",
    "    \n",
    "    def fit(self, X, y):\n",
    "        # TODO 1:\n",
    "        # Code your linear regression in NumPy.\n",
    "        # Formula: (X' * X)^-1 * X' * y\n",
    "        # PS: Don't forget the ones for the free term\n",
    "        # Hints: np.column_stack, np.matmul, np.linalg.inv, np.transpose, ndarray.T\n",
    "        pass\n",
    "    \n",
    "    def predict(self, X):\n",
    "        # TODO 2:\n",
    "        # Code your Numpy inference.\n",
    "        # Formula: X * W\n",
    "        # PS: Don't forget the onfes for the free term\n",
    "        # Hints: np.column_stack, np.matmul\n",
    "        pass\n"
   ]
  },
  {
   "cell_type": "code",
   "execution_count": null,
   "metadata": {},
   "outputs": [],
   "source": [
    "# generate samples for our numpy linear regression to test\n",
    "X, y = make_regression(n_samples=100, n_features=1, n_informative=7, bias=1, noise=100)\n",
    "\n",
    "# create the numpy linear regression\n",
    "np_lin_reg = NumpyLinearRegression()\n",
    "\n",
    "# fit it to our data\n",
    "np_lin_reg.fit(X, y)\n",
    "\n",
    "# plot the results\n",
    "plt.scatter(X, y)\n",
    "plt.plot(X, np_lin_reg.predict(X), color='orange')"
   ]
  },
  {
   "cell_type": "code",
   "execution_count": null,
   "metadata": {},
   "outputs": [],
   "source": [
    "# let's benchmark our results with numpy\n",
    "results_numpy = []\n",
    "\n",
    "for no_samples in no_inputs:\n",
    "    X, y = make_regression(n_samples=no_samples, n_features=10, n_informative=7, bias=1, noise=100)\n",
    "    reg = NumpyLinearRegression()\n",
    "    start = time()    \n",
    "    reg.fit(X, y)\n",
    "    end = time()\n",
    "    results_numpy.append(end - start)"
   ]
  },
  {
   "cell_type": "code",
   "execution_count": null,
   "metadata": {},
   "outputs": [],
   "source": [
    "class TorchLinearRegression(nn.Module):\n",
    "    def __init__(self, device=\"cpu\"):\n",
    "        self.weights = None\n",
    "        self.device = device\n",
    "\n",
    "    def fit(self, X, y):\n",
    "        # TODO 3:\n",
    "        # Code your linear regression in PyTorch.\n",
    "        \n",
    "        # Remember that the Numpy and PyTorch APIs are quite similar.\n",
    "        \n",
    "        # Be aware to always send your intermediary data to the right device! We want\n",
    "        # to benchmark on the cpu and the gpu as well!\n",
    "        \n",
    "        # Formula: (X' * X)^-1 * X' * y\n",
    "        # PS: Don't forget the ones for the free term!\n",
    "        pass\n",
    "    \n",
    "    def predict(self, X):\n",
    "        # TODO 4:\n",
    "        # Code your own inference.\n",
    "        # Formula: X * W\n",
    "        # Don't forget the ones for the free term!\n",
    "        pass"
   ]
  },
  {
   "cell_type": "code",
   "execution_count": null,
   "metadata": {},
   "outputs": [],
   "source": [
    "# generate samples for our numpy linear regression to test\n",
    "X, y = make_regression(n_samples=100, n_features=1, n_informative=7, bias=1, noise=100)\n",
    "\n",
    "# this is needed to convert the numpy array to a proper tensor\n",
    "y = y.reshape((-1, 1))\n",
    "\n",
    "# Create the torch Linear Regression\n",
    "lin_reg = TorchLinearRegression()\n",
    "X, y = th.from_numpy(X), th.from_numpy(y)\n",
    "lin_reg.fit(X, y)\n",
    "\n",
    "# plot the results\n",
    "plt.scatter(X, y)\n",
    "plt.plot(X.numpy(), lin_reg.predict(X), color='orange')"
   ]
  },
  {
   "cell_type": "code",
   "execution_count": null,
   "metadata": {},
   "outputs": [],
   "source": [
    "# let's benchmark our results with torch\n",
    "\n",
    "results_torch = {\n",
    "    \"cpu\": [],\n",
    "    \"cuda\": []\n",
    "}\n",
    "\n",
    "for device in [\"cpu\", \"cuda\"]:\n",
    "    if not th.cuda.is_available() and device == \"cuda\":\n",
    "        results_torch[\"cuda\"] = [0] * len(no_inputs)\n",
    "        continue\n",
    "    \n",
    "    for no_samples in no_inputs:\n",
    "        X, y = make_regression(n_samples=no_samples, n_features=10, n_informative=7, bias=1, noise=100)\n",
    "        y = y.reshape((-1, 1))\n",
    "        reg = TorchLinearRegression(device=device)\n",
    "        X, y = th.from_numpy(X).to(device), th.from_numpy(y).to(device)\n",
    "        start = time()\n",
    "        reg.fit(X, y)\n",
    "        end = time()\n",
    "        results_torch[device].append(end - start)\n"
   ]
  },
  {
   "cell_type": "code",
   "execution_count": null,
   "metadata": {},
   "outputs": [],
   "source": [
    "plt.plot(no_inputs, results_torch[\"cuda\"], label=\"torch-cuda\")\n",
    "plt.plot(no_inputs, results_torch[\"cpu\"], label=\"torch-cpu\")\n",
    "plt.plot(no_inputs, results_numpy, label=\"numpy\")\n",
    "plt.legend()"
   ]
  }
 ],
 "metadata": {
  "kernelspec": {
   "display_name": "Python 3",
   "language": "python",
   "name": "python3"
  },
  "language_info": {
   "codemirror_mode": {
    "name": "ipython",
    "version": 3
   },
   "file_extension": ".py",
   "mimetype": "text/x-python",
   "name": "python",
   "nbconvert_exporter": "python",
   "pygments_lexer": "ipython3",
   "version": "3.8.5"
  }
 },
 "nbformat": 4,
 "nbformat_minor": 4
}
