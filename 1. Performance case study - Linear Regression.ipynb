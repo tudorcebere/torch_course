{
 "cells": [
  {
   "cell_type": "code",
   "execution_count": 13,
   "metadata": {},
   "outputs": [
    {
     "data": {
      "text/plain": [
       "<torch._C.Generator at 0x7f18c00aba10>"
      ]
     },
     "execution_count": 13,
     "metadata": {},
     "output_type": "execute_result"
    }
   ],
   "source": [
    "import torch as th\n",
    "from torch import nn\n",
    "from sklearn.datasets import make_regression\n",
    "import matplotlib.pyplot as plt\n",
    "import numpy as np\n",
    "from time import time\n",
    "\n",
    "np.random.seed(42)\n",
    "th.manual_seed(42)"
   ]
  },
  {
   "cell_type": "code",
   "execution_count": 14,
   "metadata": {},
   "outputs": [],
   "source": [
    "class NumpyLinearRegression:\n",
    "    def __init__(self):\n",
    "        self.weights = None\n",
    "        \n",
    "    \n",
    "    def fit(self, X, y):\n",
    "        # Go ahead and rock it!\n",
    "        X = np.column_stack((X, np.ones_like(y)))\n",
    "        rows, cols = X.shape\n",
    "    \n",
    "        self.weights = np.matmul(\n",
    "            np.matmul(\n",
    "                np.linalg.inv(\n",
    "                    np.matmul(\n",
    "                        np.transpose(X),\n",
    "                        X)),\n",
    "                np.transpose(X)),\n",
    "            y)\n",
    "\n",
    "    def predict(self, X):\n",
    "        X = np.column_stack((X, np.ones_like(y)))\n",
    "        return np.matmul(X, self.weights)"
   ]
  },
  {
   "cell_type": "code",
   "execution_count": 15,
   "metadata": {},
   "outputs": [
    {
     "data": {
      "text/plain": [
       "[<matplotlib.lines.Line2D at 0x7f181c3638b0>]"
      ]
     },
     "execution_count": 15,
     "metadata": {},
     "output_type": "execute_result"
    },
    {
     "data": {
      "image/png": "[encoded data removed]",
      "text/plain": [
       "<Figure size 432x288 with 1 Axes>"
      ]
     },
     "metadata": {
      "needs_background": "light"
     },
     "output_type": "display_data"
    }
   ],
   "source": [
    "X, y = make_regression(n_samples=100, n_features=1, n_informative=7, bias=1, noise=100)\n",
    "np_lin_reg = NumpyLinearRegression()\n",
    "np_lin_reg.fit(X, y)\n",
    "\n",
    "plt.scatter(X, y)\n",
    "plt.plot(X, np_lin_reg.predict(X), color='orange')"
   ]
  },
  {
   "cell_type": "code",
   "execution_count": 16,
   "metadata": {},
   "outputs": [],
   "source": [
    "results_numpy = []\n",
    "\n",
    "#Let's benchmark it!\n",
    "for no_samples in no_inputs:\n",
    "    X, y = make_regression(n_samples=no_samples, n_features=10, n_informative=7, bias=1, noise=100)\n",
    "    reg = NumpyLinearRegression()\n",
    "    start = time()    \n",
    "    reg.fit(X, y)\n",
    "    end = time()\n",
    "    results_numpy.append(end - start)"
   ]
  },
  {
   "cell_type": "code",
   "execution_count": 17,
   "metadata": {},
   "outputs": [],
   "source": [
    "class LinearRegression(nn.Module):\n",
    "    def __init__(self, device=\"cpu\"):\n",
    "        self.weights = None\n",
    "        self.device = device\n",
    "\n",
    "    def fit(self, X, y):\n",
    "        # Go ahead and rock it!\n",
    "        X = X.to(self.device)\n",
    "        X = X.to(self.device)\n",
    "        \n",
    "        X = th.cat([X, th.ones_like(y).to(self.device)], dim=1)\n",
    "\n",
    "        rows, cols = X.size()\n",
    "        self.weights = th.matmul(\n",
    "            th.matmul(\n",
    "                th.inverse(\n",
    "                    th.matmul(\n",
    "                        th.transpose(X, 0, 1),\n",
    "                        X)),\n",
    "                th.transpose(X, 0, 1)),\n",
    "            y)\n",
    "\n",
    "    def predict(self, X):\n",
    "        # Write your inference here!\n",
    "        X = th.cat([X, th.ones((X.size()[0], 1))], dim=1)\n",
    "        return th.matmul(X, self.weights)"
   ]
  },
  {
   "cell_type": "code",
   "execution_count": 20,
   "metadata": {},
   "outputs": [
    {
     "data": {
      "text/plain": [
       "[<matplotlib.lines.Line2D at 0x7f181c2c92e0>]"
      ]
     },
     "execution_count": 20,
     "metadata": {},
     "output_type": "execute_result"
    },
    {
     "data": {
      "image/png": "[encoded data removed]",
      "text/plain": [
       "<Figure size 432x288 with 1 Axes>"
      ]
     },
     "metadata": {
      "needs_background": "light"
     },
     "output_type": "display_data"
    }
   ],
   "source": [
    "X, y = make_regression(n_samples=100, n_features=1, n_informative=7, bias=1, noise=100)\n",
    "y = y.reshape((-1, 1))\n",
    "lin_reg = LinearRegression()\n",
    "X, y = th.from_numpy(X), th.from_numpy(y)\n",
    "lin_reg.fit(X, y)\n",
    "\n",
    "plt.scatter(X, y)\n",
    "plt.plot(X.numpy(), lin_reg.predict(X), color='orange')"
   ]
  },
  {
   "cell_type": "code",
   "execution_count": 35,
   "metadata": {},
   "outputs": [],
   "source": [
    "results_torch = {\n",
    "    \"cpu\": [],\n",
    "    \"cuda\": []\n",
    "}\n",
    "\n",
    "for device in [\"cpu\", \"cuda\"]:\n",
    "    if not th.cuda.is_available() and device == \"cuda\":\n",
    "        results_torch[\"cuda\"] = [0] * len(no_inputs)\n",
    "        continue\n",
    "    \n",
    "    for no_samples in no_inputs:\n",
    "        X, y = make_regression(n_samples=no_samples, n_features=10, n_informative=7, bias=1, noise=100)\n",
    "        y = y.reshape((-1, 1))\n",
    "        reg = LinearRegression(device=device)\n",
    "        X, y = th.from_numpy(X).to(device), th.from_numpy(y).to(device)\n",
    "        start = time()\n",
    "        reg.fit(X, y)\n",
    "        end = time()\n",
    "        results_torch[device].append(end - start)\n"
   ]
  },
  {
   "cell_type": "code",
   "execution_count": 36,
   "metadata": {},
   "outputs": [
    {
     "data": {
      "text/plain": [
       "<matplotlib.legend.Legend at 0x7f181c043e80>"
      ]
     },
     "execution_count": 36,
     "metadata": {},
     "output_type": "execute_result"
    },
    {
     "data": {
      "image/png": "[encoded data removed]",
      "text/plain": [
       "<Figure size 432x288 with 1 Axes>"
      ]
     },
     "metadata": {
      "needs_background": "light"
     },
     "output_type": "display_data"
    }
   ],
   "source": [
    "plt.plot(no_inputs, results_torch[\"cuda\"], label=\"torch-cuda\")\n",
    "plt.plot(no_inputs, results_torch[\"cpu\"], label=\"torch-cpu\")\n",
    "plt.plot(no_inputs, results_numpy, label=\"numpy\")\n",
    "plt.legend()"
   ]
  },
  {
   "cell_type": "code",
   "execution_count": null,
   "metadata": {},
   "outputs": [],
   "source": []
  }
 ],
 "metadata": {
  "kernelspec": {
   "display_name": "Python 3",
   "language": "python",
   "name": "python3"
  },
  "language_info": {
   "codemirror_mode": {
    "name": "ipython",
    "version": 3
   },
   "file_extension": ".py",
   "mimetype": "text/x-python",
   "name": "python",
   "nbconvert_exporter": "python",
   "pygments_lexer": "ipython3",
   "version": "3.8.5"
  }
 },
 "nbformat": 4,
 "nbformat_minor": 4
}
