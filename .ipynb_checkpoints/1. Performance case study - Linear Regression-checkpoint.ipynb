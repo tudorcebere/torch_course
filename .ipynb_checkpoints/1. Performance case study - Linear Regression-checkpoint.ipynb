{
 "cells": [
  {
   "cell_type": "code",
   "execution_count": 1,
   "metadata": {},
   "outputs": [],
   "source": [
    "import torch as th\n",
    "from torch import nn\n",
    "from sklearn.datasets import make_regression\n",
    "import matplotlib.pyplot as plt\n",
    "import numpy as np\n",
    "from time import time\n",
    "\n",
    "np.random.seed(42)"
   ]
  },
  {
   "cell_type": "code",
   "execution_count": 2,
   "metadata": {},
   "outputs": [],
   "source": [
    "class LinearRegression(nn.Module):\n",
    "    def __init__(self, device=\"cpu\"):\n",
    "        self.weights = None\n",
    "        self.device = device\n",
    "\n",
    "    def fit(self, X, y):\n",
    "        # Go ahead and rock it!\n",
    "        X = X.to(self.device)\n",
    "        X = X.to(self.device)\n",
    "        \n",
    "        X = th.cat([X, th.ones_like(y).to(self.device)], dim=1)\n",
    "\n",
    "        rows, cols = X.size()\n",
    "        self.weights = th.matmul(\n",
    "            th.matmul(\n",
    "                th.inverse(\n",
    "                    th.matmul(\n",
    "                        th.transpose(X, 0, 1),\n",
    "                        X)),\n",
    "                th.transpose(X, 0, 1)),\n",
    "            y)\n",
    "\n",
    "    def predict(self, X):\n",
    "        # Write your inference here!\n",
    "        X = th.cat([X, th.ones((X.size()[0], 1))], dim=1)\n",
    "        return th.matmul(X, self.weights)"
   ]
  },
  {
   "cell_type": "code",
   "execution_count": 3,
   "metadata": {},
   "outputs": [],
   "source": [
    "X, y = make_regression(n_samples=100, n_features=1, n_informative=1, bias=1, noise=35)\n",
    "y = y.reshape((-1, 1))"
   ]
  },
  {
   "cell_type": "code",
   "execution_count": 4,
   "metadata": {},
   "outputs": [
    {
     "data": {
      "text/plain": [
       "<matplotlib.collections.PathCollection at 0x7f1821099b80>"
      ]
     },
     "execution_count": 4,
     "metadata": {},
     "output_type": "execute_result"
    },
    {
     "data": {
      "image/png": "[encoded data removed]",
      "text/plain": [
       "<Figure size 432x288 with 1 Axes>"
      ]
     },
     "metadata": {
      "needs_background": "light"
     },
     "output_type": "display_data"
    }
   ],
   "source": [
    "plt.scatter(X, y)"
   ]
  },
  {
   "cell_type": "code",
   "execution_count": 5,
   "metadata": {},
   "outputs": [],
   "source": [
    "lin_reg = LinearRegression()\n",
    "X, y = th.from_numpy(X), th.from_numpy(y)\n",
    "lin_reg.fit(X, y)"
   ]
  },
  {
   "cell_type": "code",
   "execution_count": 6,
   "metadata": {},
   "outputs": [
    {
     "data": {
      "text/plain": [
       "[<matplotlib.lines.Line2D at 0x7f181ef8e640>]"
      ]
     },
     "execution_count": 6,
     "metadata": {},
     "output_type": "execute_result"
    },
    {
     "data": {
      "image/png": "[encoded data removed]",
      "text/plain": [
       "<Figure size 432x288 with 1 Axes>"
      ]
     },
     "metadata": {
      "needs_background": "light"
     },
     "output_type": "display_data"
    }
   ],
   "source": [
    "plt.scatter(X, y)\n",
    "plt.plot(X.numpy(), lin_reg.predict(X), color='orange')"
   ]
  },
  {
   "cell_type": "code",
   "execution_count": 7,
   "metadata": {},
   "outputs": [],
   "source": [
    "no_inputs = [10**i for i in range(2, 8)]\n",
    "results_torch = []\n",
    "\n",
    "#Let's benchmark it!\n",
    "for no_samples in no_inputs:\n",
    "    X, y = make_regression(n_samples=no_samples, n_features=10, n_informative=7, bias=1, noise=100)\n",
    "    y = y.reshape((-1, 1))\n",
    "    X, y = th.from_numpy(X), th.from_numpy(y)\n",
    "\n",
    "    lin_reg = LinearRegression()\n",
    "    start = time()    \n",
    "    lin_reg.fit(X, y)\n",
    "    end = time()\n",
    "    results_torch.append(end - start)"
   ]
  },
  {
   "cell_type": "code",
   "execution_count": 8,
   "metadata": {},
   "outputs": [
    {
     "data": {
      "text/plain": [
       "[<matplotlib.lines.Line2D at 0x7f181ef66c70>]"
      ]
     },
     "execution_count": 8,
     "metadata": {},
     "output_type": "execute_result"
    },
    {
     "data": {
      "image/png": "[encoded data removed]",
      "text/plain": [
       "<Figure size 432x288 with 1 Axes>"
      ]
     },
     "metadata": {
      "needs_background": "light"
     },
     "output_type": "display_data"
    }
   ],
   "source": [
    "plt.plot(no_inputs, results_torch)"
   ]
  },
  {
   "cell_type": "code",
   "execution_count": 9,
   "metadata": {},
   "outputs": [],
   "source": [
    "class NumpyLinearRegression:\n",
    "    def __init__(self):\n",
    "        self.weights = None\n",
    "        \n",
    "    \n",
    "    def fit(self, X, y):\n",
    "        # Go ahead and rock it!\n",
    "        X = np.column_stack((X, np.ones_like(y)))\n",
    "        rows, cols = X.shape\n",
    "    \n",
    "        self.weights = np.matmul(\n",
    "            np.matmul(\n",
    "                np.linalg.inv(\n",
    "                    np.matmul(\n",
    "                        np.transpose(X),\n",
    "                        X)),\n",
    "                np.transpose(X)),\n",
    "            y)\n",
    "\n",
    "    def predict(self, X):\n",
    "        X = np.column_stack((X, np.ones_like(y)))\n",
    "        return np.matmul(X, self.weights)\n"
   ]
  },
  {
   "cell_type": "code",
   "execution_count": null,
   "metadata": {},
   "outputs": [],
   "source": [
    "X, y = make_regression(n_samples=100, n_features=1, n_informative=7, bias=1, noise=100)\n",
    "np_lin_reg = NumpyLinearRegression()\n",
    "np_lin_reg.fit(X, y)"
   ]
  },
  {
   "cell_type": "code",
   "execution_count": null,
   "metadata": {},
   "outputs": [],
   "source": [
    "plt.scatter(X, y)\n",
    "plt.plot(X, np_lin_reg.predict(X), color='orange')"
   ]
  },
  {
   "cell_type": "code",
   "execution_count": null,
   "metadata": {},
   "outputs": [],
   "source": [
    "results_numpy = []\n",
    "\n",
    "#Let's benchmark it!\n",
    "for no_samples in no_inputs:\n",
    "    X, y = make_regression(n_samples=no_samples, n_features=10, n_informative=7, bias=1, noise=100)\n",
    "    reg = NumpyLinearRegression()\n",
    "    start = time()    \n",
    "    reg.fit(X, y)\n",
    "    end = time()\n",
    "    results_numpy.append(end - start)"
   ]
  },
  {
   "cell_type": "code",
   "execution_count": null,
   "metadata": {},
   "outputs": [],
   "source": [
    "results_torch_cuda = []\n",
    "for no_samples in no_inputs:\n",
    "    X, y = make_regression(n_samples=no_samples, n_features=10, n_informative=7, bias=1, noise=100)\n",
    "    y = y.reshape((-1, 1))\n",
    "    reg = LinearRegression(device=\"cuda\")\n",
    "    X, y = th.from_numpy(X), th.from_numpy(y)\n",
    "    X = X.cuda()\n",
    "    y = y.cuda()\n",
    "    start = time()\n",
    "    reg.fit(X, y)\n",
    "    end = time()\n",
    "    results_torch_cuda.append(end - start)"
   ]
  },
  {
   "cell_type": "code",
   "execution_count": null,
   "metadata": {},
   "outputs": [],
   "source": [
    "plt.plot(no_inputs, results_torch_cuda, label=\"torch-cuda\")\n",
    "plt.plot(no_inputs, results_torch, label=\"torch-cpu\")\n",
    "plt.plot(no_inputs, results_numpy, label=\"numpy\")\n",
    "plt.legend()"
   ]
  },
  {
   "cell_type": "code",
   "execution_count": null,
   "metadata": {},
   "outputs": [],
   "source": []
  }
 ],
 "metadata": {
  "kernelspec": {
   "display_name": "Python 3",
   "language": "python",
   "name": "python3"
  },
  "language_info": {
   "codemirror_mode": {
    "name": "ipython",
    "version": 3
   },
   "file_extension": ".py",
   "mimetype": "text/x-python",
   "name": "python",
   "nbconvert_exporter": "python",
   "pygments_lexer": "ipython3",
   "version": "3.8.5"
  }
 },
 "nbformat": 4,
 "nbformat_minor": 4
}
